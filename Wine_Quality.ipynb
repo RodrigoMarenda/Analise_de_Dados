{
  "nbformat": 4,
  "nbformat_minor": 0,
  "metadata": {
    "colab": {
      "provenance": [],
      "collapsed_sections": [
        "XcHpQ9s_B4n1"
      ],
      "include_colab_link": true
    },
    "kernelspec": {
      "name": "python3",
      "display_name": "Python 3"
    },
    "language_info": {
      "name": "python"
    }
  },
  "cells": [
    {
      "cell_type": "markdown",
      "metadata": {
        "id": "view-in-github",
        "colab_type": "text"
      },
      "source": [
        "<a href=\"https://colab.research.google.com/github/RodrigoMarenda/Analise_de_Dados/blob/main/Wine_Quality.ipynb\" target=\"_parent\"><img src=\"https://colab.research.google.com/assets/colab-badge.svg\" alt=\"Open In Colab\"/></a>"
      ]
    },
    {
      "cell_type": "markdown",
      "source": [
        "# MVP Análise de Dados e Boas Práticas\n",
        "\n",
        "**Nome:** Rodrigo Belo Marenda\n",
        "\n",
        "**Matrícula:** 4052024002404\n",
        "\n",
        "**Dataset:** [Wine Quality](https://www.kaggle.com/datasets/sahideseker/wine-quality-classification)\n"
      ],
      "metadata": {
        "id": "cmYX3PLx58Jg"
      }
    },
    {
      "cell_type": "markdown",
      "source": [
        "<a id=\"1\"></a>\n",
        "# <p style=\"background-color:#3498DB; font-family: 'Segoe UI', Tahoma, Geneva, Verdana, sans-serif; color:#FFF; font-size:160%; text-align:center; border-radius:10px; padding:12px;\">Classificação da Qualidade de Vinhos</p>\n",
        "\n",
        "\n",
        "[**Classificação da Qualidade de Vinhos**]\n",
        "\n",
        "(https://github.com/RodrigoMarenda/Analise_de_Dados/blob/main/wine_image.jpeg)\n",
        "\n",
        "(https://github.com/RodrigoMarenda/Sports_Predictions/blob/main/Imagens/wine_image.jpeg?raw=true)\n",
        "\n",
        "\n",
        "# **Introdução**\n",
        "\n",
        "### **Definição do Problema:**\n",
        "\n",
        "O conjunto de dados Wine Quality é um conjunto de dados multivariado que consiste na avaliação de vinhos produzidos mundialmente. O objetivo principal é classificar o Rotuno do Vinho com com base em quatro características : acidez, residuo de açucar,\tnivel alcolico\te densidade.\n",
        "\n",
        "\n",
        "**Tipo de Problema**\n",
        "\n",
        "**classificação supervisionada**  (Baixa, Média ou Alta Qualidade).\n",
        "\n",
        "\n",
        "  - **Premissa**: Dados históricos dos jogos disputados, com variaveis que possam ser correlacionadas para determinar uma tendencia de resultado.\n",
        "\n",
        "  - **Hipótese**: Um modelo de machine learning treinado com dados históricos, para identificar padrões que ajudem a prever o resultado das partidas.\n",
        "\n",
        "  - **Variáveis**:"
      ],
      "metadata": {
        "id": "YW_JS-EEBFaR"
      }
    },
    {
      "cell_type": "markdown",
      "source": [
        "## Hipóteses do Problema\n",
        "\n",
        "As hipóteses que tracei são as seguintes:\n",
        "\n",
        "- As diferentes espécies de Íris podem ser distinguidas com base nas medições de suas sépalas e pétalas?\n",
        "\n",
        "- Existe uma correlação entre nacidez e nivel alcolico ?\n",
        "\n",
        "- A espécie Iris setosa é mais facilmente separável das outras duas espécies?"
      ],
      "metadata": {
        "id": "Gm6mOo5PBYwr"
      }
    },
    {
      "cell_type": "markdown",
      "source": [
        "## Tipo de Problema\n",
        "\n",
        "Este é um problema de **classificação supervisionada**. Dado um conjunto de características (comprimento e largura da sépala, comprimento e largura da pétala), o objetivo é prever a qual das três classes (espécies de Íris) uma determinada flor pertence."
      ],
      "metadata": {
        "id": "x1zNNZt6BfdF"
      }
    },
    {
      "cell_type": "markdown",
      "source": [
        "## Seleção de Dados\n",
        "\n",
        "O dataset Iris é um conjunto de dados amplamente disponível e frequentemente incluído em bibliotecas de aprendizado de máquina, como *scikit-learn* no Python. Não é necessária uma etapa de seleção de dados externa, pois o dataset já está curado e pronto para uso."
      ],
      "metadata": {
        "id": "N91bTLbiBxrm"
      }
    },
    {
      "cell_type": "markdown",
      "source": [
        "## Atributos do Dataset\n",
        "\n",
        "O dataset Iris contém 150 amostras, com 50 amostras de cada uma das três espécies de Íris. Possui cinco atributos:\n",
        "\n",
        "- ***sepal length*** (comprimento da sépala em cm)\n",
        "- ***sepal width*** (largura da sépala em cm)\n",
        "- ***petal length*** (comprimento da pétala em cm)\n",
        "- ***petal width*** (largura da pétala em cm)\n",
        "- ***species*** (espécie de Íris: setosa, versicolor, virginica)"
      ],
      "metadata": {
        "id": "FC6QJHhWBnzH"
      }
    },
    {
      "cell_type": "markdown",
      "source": [
        "******************************************\n",
        "\n",
        "## **Estrutura do projeto:**\n",
        "\n",
        "[**1. Importação das Bibliotecas:**](#1)\n",
        "\n",
        "[**2. Carga dos Dados:**](#2)\n",
        "\n",
        "[**3. Pré-processamento de dados:**](#3)\n",
        "\n",
        "[**4. Transformação e Engenharia de Atributos:**](#4)\n",
        "\n",
        "[**5. Análise Exploratória de Dados (EDA - Exploratory Data Analysis):**](#5)\n",
        "\n",
        "[**6. Interpretação e Geração de Insights:**](#6)\n",
        "\n",
        "[**7. Visualização Final e Comunicação:**](#7)\n",
        "\n",
        "[**8. Conclusão:**](#8)"
      ],
      "metadata": {
        "id": "5HjmSV7gx_01"
      }
    },
    {
      "cell_type": "code",
      "source": [],
      "metadata": {
        "id": "vFcOA848u496"
      },
      "execution_count": null,
      "outputs": []
    },
    {
      "cell_type": "markdown",
      "source": [
        "<a id=\"1\"></a>\n",
        "# <p style=\"background-color:#3498DB; font-family: 'Segoe UI', Tahoma, Geneva, Verdana, sans-serif; color:#FFF; font-size:160%; text-align:center; border-radius:10px; padding:12px;\">1. Importação das Bibliotecas</p>"
      ],
      "metadata": {
        "id": "qaqRRPz7uv46"
      }
    },
    {
      "cell_type": "markdown",
      "source": [
        "# Step 01: Importação das Bibliotecas\n",
        "\n",
        "Nessa etapa estamos importanto todas as blibliotecas que serão utilizadas nesse algoritimo"
      ],
      "metadata": {
        "id": "DObGnkf0bJBh"
      }
    },
    {
      "cell_type": "code",
      "source": [
        "import pandas as pd\n",
        "import numpy as np\n",
        "import matplotlib.pyplot as plt\n",
        "import seaborn as sns\n",
        "from sklearn.datasets import load_iris\n",
        "from sklearn.model_selection import train_test_split\n",
        "from sklearn.preprocessing import StandardScaler, MinMaxScaler, OneHotEncoder\n",
        "from sklearn.decomposition import PCA\n",
        "from sklearn.compose import ColumnTransformer\n",
        "from sklearn.pipeline import Pipeline\n",
        "\n",
        "from sklearn.model_selection import train_test_split\n",
        "from sklearn.ensemble import RandomForestClassifier\n",
        "from sklearn.metrics import classification_report"
      ],
      "metadata": {
        "id": "tCohWn2jbkDB"
      },
      "execution_count": 45,
      "outputs": []
    },
    {
      "cell_type": "markdown",
      "source": [
        "<a id=\"1\"></a>\n",
        "# <p style=\"background-color:#3498DB; font-family: 'Segoe UI', Tahoma, Geneva, Verdana, sans-serif; color:#FFF; font-size:160%; text-align:center; border-radius:10px; padding:12px;\">2. Carga dos Dados</p>"
      ],
      "metadata": {
        "id": "TBvCeH8QvDwt"
      }
    },
    {
      "cell_type": "markdown",
      "source": [
        "# Step 01: Carga de Dados\n",
        "\n",
        "Nessa etapa estamos realizando a carga dos dados, que estão armazendos em um arquivo do tipo csv (Comma-Separated Values). Esse dataset foi obtido no Site xxxx. Foram coletados dados de rotulos de vinhos, com o objetivo de realição a classificação dos Rotulos de acordo com as sua variaveis dipostas no dataset."
      ],
      "metadata": {
        "id": "AMnG_Z8vjrB4"
      }
    },
    {
      "cell_type": "code",
      "source": [
        "#--------------------------------------------------------#\n",
        "# Informa a URL de importação do dataset                 #\n",
        "#--------------------------------------------------------#\n",
        "\n",
        "url =\"https://raw.githubusercontent.com/RodrigoMarenda/Sports_Predictions/refs/heads/main/data/winemag-data_first25k.csv\"\n",
        "\n",
        "\n",
        "# Lê o arquivo\n",
        "df = pd.read_csv(url, delimiter=';', low_memory=False)\n",
        "\n",
        "\n",
        "# Exibir as primeiras linhas do DataFrame\n",
        "df.head()\n",
        "\n"
      ],
      "metadata": {
        "id": "85JTep_v6uI0"
      },
      "execution_count": 59,
      "outputs": []
    },
    {
      "cell_type": "code",
      "source": [
        "# Verifica o tamanho do dataset , total de linhas e colunas.\n",
        "df.shape\n",
        "print(f\"O Dataset tem {df.shape[0]} linhas e {df.shape[1]} colunas.\")"
      ],
      "metadata": {
        "id": "MKcE0Khkfiqp",
        "outputId": "01023581-ca49-4224-b6fb-6288b5a40038",
        "colab": {
          "base_uri": "https://localhost:8080/"
        }
      },
      "execution_count": 60,
      "outputs": [
        {
          "output_type": "stream",
          "name": "stdout",
          "text": [
            "O Dataset tem 150931 linhas e 16 colunas.\n"
          ]
        }
      ]
    },
    {
      "cell_type": "code",
      "source": [
        "# Verifica a estrutura do dataset, datatypes das colunas\n",
        "df.dtypes"
      ],
      "metadata": {
        "id": "QE5xUscCdJ2I",
        "outputId": "53fc8310-6066-4b59-9c1b-188cd0bd09bc",
        "colab": {
          "base_uri": "https://localhost:8080/",
          "height": 585
        }
      },
      "execution_count": 61,
      "outputs": [
        {
          "output_type": "execute_result",
          "data": {
            "text/plain": [
              "id                float64\n",
              "country            object\n",
              "description        object\n",
              "designation        object\n",
              "points            float64\n",
              "price             float64\n",
              "province           object\n",
              "region_1           object\n",
              "region_2           object\n",
              "variety            object\n",
              "winery             object\n",
              "fixed_acidity     float64\n",
              "residual_sugar    float64\n",
              "alcohol           float64\n",
              "density           float64\n",
              "quality_label      object\n",
              "dtype: object"
            ],
            "text/html": [
              "<div>\n",
              "<style scoped>\n",
              "    .dataframe tbody tr th:only-of-type {\n",
              "        vertical-align: middle;\n",
              "    }\n",
              "\n",
              "    .dataframe tbody tr th {\n",
              "        vertical-align: top;\n",
              "    }\n",
              "\n",
              "    .dataframe thead th {\n",
              "        text-align: right;\n",
              "    }\n",
              "</style>\n",
              "<table border=\"1\" class=\"dataframe\">\n",
              "  <thead>\n",
              "    <tr style=\"text-align: right;\">\n",
              "      <th></th>\n",
              "      <th>0</th>\n",
              "    </tr>\n",
              "  </thead>\n",
              "  <tbody>\n",
              "    <tr>\n",
              "      <th>id</th>\n",
              "      <td>float64</td>\n",
              "    </tr>\n",
              "    <tr>\n",
              "      <th>country</th>\n",
              "      <td>object</td>\n",
              "    </tr>\n",
              "    <tr>\n",
              "      <th>description</th>\n",
              "      <td>object</td>\n",
              "    </tr>\n",
              "    <tr>\n",
              "      <th>designation</th>\n",
              "      <td>object</td>\n",
              "    </tr>\n",
              "    <tr>\n",
              "      <th>points</th>\n",
              "      <td>float64</td>\n",
              "    </tr>\n",
              "    <tr>\n",
              "      <th>price</th>\n",
              "      <td>float64</td>\n",
              "    </tr>\n",
              "    <tr>\n",
              "      <th>province</th>\n",
              "      <td>object</td>\n",
              "    </tr>\n",
              "    <tr>\n",
              "      <th>region_1</th>\n",
              "      <td>object</td>\n",
              "    </tr>\n",
              "    <tr>\n",
              "      <th>region_2</th>\n",
              "      <td>object</td>\n",
              "    </tr>\n",
              "    <tr>\n",
              "      <th>variety</th>\n",
              "      <td>object</td>\n",
              "    </tr>\n",
              "    <tr>\n",
              "      <th>winery</th>\n",
              "      <td>object</td>\n",
              "    </tr>\n",
              "    <tr>\n",
              "      <th>fixed_acidity</th>\n",
              "      <td>float64</td>\n",
              "    </tr>\n",
              "    <tr>\n",
              "      <th>residual_sugar</th>\n",
              "      <td>float64</td>\n",
              "    </tr>\n",
              "    <tr>\n",
              "      <th>alcohol</th>\n",
              "      <td>float64</td>\n",
              "    </tr>\n",
              "    <tr>\n",
              "      <th>density</th>\n",
              "      <td>float64</td>\n",
              "    </tr>\n",
              "    <tr>\n",
              "      <th>quality_label</th>\n",
              "      <td>object</td>\n",
              "    </tr>\n",
              "  </tbody>\n",
              "</table>\n",
              "</div><br><label><b>dtype:</b> object</label>"
            ]
          },
          "metadata": {},
          "execution_count": 61
        }
      ]
    },
    {
      "cell_type": "markdown",
      "source": [
        "<a id=\"1\"></a>\n",
        "# <p style=\"background-color:#3498DB; font-family: 'Segoe UI', Tahoma, Geneva, Verdana, sans-serif; color:#FFF; font-size:160%; text-align:center; border-radius:10px; padding:12px;\">3. Pré-processamento de dados:</p>\n",
        "\n",
        "Nessa etapa será realizado o ajuste do dataset, para considerar somente as colunas que fazem sentido para a analise. Também será feita a limpeza, transformação e o tratamento de dados nulos ou vazios. Faremos a padronização dos dados para melhorar o desempenho do algoritmo."
      ],
      "metadata": {
        "id": "XcHpQ9s_B4n1"
      }
    },
    {
      "cell_type": "markdown",
      "source": [
        "# Step 01: Exploração Inicial"
      ],
      "metadata": {
        "id": "GqFnSTg2mcIP"
      }
    },
    {
      "cell_type": "code",
      "source": [
        "print(\"Informações gerais:\")\n",
        "print(df.info())\n",
        "\n",
        "print(\"\\nResumo estatístico:\")\n",
        "print(df.describe())\n",
        "\n",
        "print(\"\\nValores nulos por coluna:\")\n",
        "print(df.isnull().sum())\n",
        "\n",
        "print(\"\\nAmostra dos dados:\")\n",
        "print(df.head())\n"
      ],
      "metadata": {
        "colab": {
          "base_uri": "https://localhost:8080/"
        },
        "id": "1AVWbK8YPJmy",
        "outputId": "51e7401c-dcb4-4111-f600-cd154a06539b"
      },
      "execution_count": 62,
      "outputs": [
        {
          "output_type": "stream",
          "name": "stdout",
          "text": [
            "Informações gerais:\n",
            "<class 'pandas.core.frame.DataFrame'>\n",
            "RangeIndex: 150931 entries, 0 to 150930\n",
            "Data columns (total 16 columns):\n",
            " #   Column          Non-Null Count  Dtype  \n",
            "---  ------          --------------  -----  \n",
            " 0   id              25001 non-null  float64\n",
            " 1   country         24999 non-null  object \n",
            " 2   description     25001 non-null  object \n",
            " 3   designation     17179 non-null  object \n",
            " 4   points          24279 non-null  float64\n",
            " 5   price           22188 non-null  float64\n",
            " 6   province        24277 non-null  object \n",
            " 7   region_1        20509 non-null  object \n",
            " 8   region_2        9411 non-null   object \n",
            " 9   variety         24279 non-null  object \n",
            " 10  winery          24279 non-null  object \n",
            " 11  fixed_acidity   25001 non-null  float64\n",
            " 12  residual_sugar  25001 non-null  float64\n",
            " 13  alcohol         25001 non-null  float64\n",
            " 14  density         25001 non-null  float64\n",
            " 15  quality_label   25001 non-null  object \n",
            "dtypes: float64(7), object(9)\n",
            "memory usage: 18.4+ MB\n",
            "None\n",
            "\n",
            "Resumo estatístico:\n",
            "                 id        points         price  fixed_acidity  \\\n",
            "count  25001.000000  24279.000000  22188.000000   25001.000000   \n",
            "mean   12500.000000     88.490259    351.604020      10.174265   \n",
            "std     7217.311376      3.018420    384.759181       3.450971   \n",
            "min        0.000000     80.000000     40.000000       4.000000   \n",
            "25%     6250.000000     86.000000    170.000000       7.100000   \n",
            "50%    12500.000000     88.000000    250.000000      10.400000   \n",
            "75%    18750.000000     90.000000    420.000000      13.100000   \n",
            "max    25000.000000    100.000000  20130.000000      16.000000   \n",
            "\n",
            "       residual_sugar       alcohol       density  \n",
            "count    25001.000000  25001.000000  25001.000000  \n",
            "mean         7.691948     11.040002   3095.600048  \n",
            "std          4.206823      1.759477   4604.346069  \n",
            "min          0.500000      8.000000      0.990000  \n",
            "25%          4.100000      9.500000      0.993900  \n",
            "50%          7.500000     11.000000      0.997400  \n",
            "75%         11.500000     12.600000  10008.000000  \n",
            "max         15.000000     14.000000  10049.000000  \n",
            "\n",
            "Valores nulos por coluna:\n",
            "id                125930\n",
            "country           125932\n",
            "description       125930\n",
            "designation       133752\n",
            "points            126652\n",
            "price             128743\n",
            "province          126654\n",
            "region_1          130422\n",
            "region_2          141520\n",
            "variety           126652\n",
            "winery            126652\n",
            "fixed_acidity     125930\n",
            "residual_sugar    125930\n",
            "alcohol           125930\n",
            "density           125930\n",
            "quality_label     125930\n",
            "dtype: int64\n",
            "\n",
            "Amostra dos dados:\n",
            "    id country                                        description  \\\n",
            "0  0.0      US  This tremendous 100% varietal wine hails from ...   \n",
            "1  1.0   Spain  Ripe aromas of fig, blackberry and cassis are ...   \n",
            "2  2.0      US  Mac Watson honors the memory of a wine once ma...   \n",
            "3  3.0      US  This spent 20 months in 30% new French oak, an...   \n",
            "4  4.0  France  This is the top wine from La Bégude, named aft...   \n",
            "\n",
            "                            designation  points   price        province  \\\n",
            "0                     Martha's Vineyard    96.0  2350.0      California   \n",
            "1  Carodorum Selección Especial Reserva    96.0  1100.0  Northern Spain   \n",
            "2         Special Selected Late Harvest    96.0   900.0      California   \n",
            "3                               Reserve    96.0   650.0          Oregon   \n",
            "4                            La Brûlade    95.0   660.0        Provence   \n",
            "\n",
            "            region_1           region_2             variety  \\\n",
            "0        Napa Valley               Napa  Cabernet Sauvignon   \n",
            "1               Toro                NaN       Tinta de Toro   \n",
            "2     Knights Valley             Sonoma     Sauvignon Blanc   \n",
            "3  Willamette Valley  Willamette Valley          Pinot Noir   \n",
            "4             Bandol                NaN  Provence red blend   \n",
            "\n",
            "                    winery  fixed_acidity  residual_sugar  alcohol  \\\n",
            "0                    Heitz            9.3             6.4     13.6   \n",
            "1  Bodega Carmen Rodríguez           11.2             2.0     14.0   \n",
            "2                 Macauley           11.6             0.9      8.2   \n",
            "3                    Ponzi           12.9             6.6     12.7   \n",
            "4     Domaine de la Bégude           13.9            13.8     10.4   \n",
            "\n",
            "      density quality_label  \n",
            "0  10005.0000          high  \n",
            "1      0.9912        medium  \n",
            "2      0.9935           low  \n",
            "3  10002.0000           low  \n",
            "4      0.9942        medium  \n"
          ]
        }
      ]
    },
    {
      "cell_type": "markdown",
      "source": [
        "# Step 02: Total e Tipo das Instâncias\n",
        "\n",
        "O dataset Iris possui 150 instâncias (observações), com 50 instâncias para cada uma das três espécies. As quatro características de medição são de tipo numérico (float), enquanto o atributo 'species' é categórico."
      ],
      "metadata": {
        "id": "5kuan1F5EA8J"
      }
    },
    {
      "cell_type": "code",
      "source": [
        "print(f\"Total de instâncias: {len(df)}\")\n",
        "print(\"\\nTipos de dados por coluna:\")\n",
        "print(df.info())"
      ],
      "metadata": {
        "id": "3asH5qmbHKVe",
        "colab": {
          "base_uri": "https://localhost:8080/"
        },
        "outputId": "9fe0638b-6bc7-45f4-cf74-9780c5f1519a"
      },
      "execution_count": 75,
      "outputs": [
        {
          "output_type": "stream",
          "name": "stdout",
          "text": [
            "Total de instâncias: 23964\n",
            "\n",
            "Tipos de dados por coluna:\n",
            "<class 'pandas.core.frame.DataFrame'>\n",
            "Index: 23964 entries, 25 to 25000\n",
            "Data columns (total 21 columns):\n",
            " #   Column                 Non-Null Count  Dtype  \n",
            "---  ------                 --------------  -----  \n",
            " 0   id                     23964 non-null  float64\n",
            " 1   country                23964 non-null  object \n",
            " 2   description            23964 non-null  object \n",
            " 3   designation            23964 non-null  object \n",
            " 4   points                 23964 non-null  float64\n",
            " 5   price                  23964 non-null  int64  \n",
            " 6   province               23964 non-null  object \n",
            " 7   region_1               23964 non-null  object \n",
            " 8   region_2               23964 non-null  object \n",
            " 9   variety                23964 non-null  object \n",
            " 10  winery                 23964 non-null  object \n",
            " 11  fixed_acidity          23964 non-null  float64\n",
            " 12  residual_sugar         23964 non-null  float64\n",
            " 13  alcohol                23964 non-null  float64\n",
            " 14  density                23964 non-null  float64\n",
            " 15  quality_label          23964 non-null  object \n",
            " 16  price_range            23964 non-null  object \n",
            " 17  qpr                    23964 non-null  float64\n",
            " 18  full_region            23964 non-null  object \n",
            " 19  desc_length            23964 non-null  int64  \n",
            " 20  alcohol_density_ratio  23964 non-null  float64\n",
            "dtypes: float64(8), int64(2), object(11)\n",
            "memory usage: 4.0+ MB\n",
            "None\n"
          ]
        }
      ]
    },
    {
      "cell_type": "markdown",
      "source": [
        "#Step 03: Limpeza dos Dados\n"
      ],
      "metadata": {
        "id": "F04ia7Fe3iH-"
      }
    },
    {
      "cell_type": "code",
      "source": [
        "#Tratamento de valores ausentes:\n",
        "\n",
        "## Remover duplicatas\n",
        "df.drop_duplicates(inplace=True)\n"
      ],
      "metadata": {
        "id": "nC-32TeY3rON"
      },
      "execution_count": 64,
      "outputs": []
    },
    {
      "cell_type": "code",
      "source": [
        "\n",
        "print(\"Linhas com pelo menos um valor nulo:\")\n",
        "print(df[df.isnull().any(axis=1)])\n",
        "\n",
        "\n",
        "## Remover linhas com nulos condicionadas ao id\n",
        "df = df[~((df['id'].notna()) & (df.isnull().any(axis=1)))]\n",
        "df.dropna(how='any', inplace=True)\n",
        "\n"
      ],
      "metadata": {
        "colab": {
          "base_uri": "https://localhost:8080/"
        },
        "id": "JMtbXD0J-rHa",
        "outputId": "976e55c2-2de9-4ea6-cba5-bdeb82345ebc"
      },
      "execution_count": 52,
      "outputs": [
        {
          "output_type": "stream",
          "name": "stdout",
          "text": [
            "Linhas com pelo menos um valor nulo:\n",
            "            id    country                                        description  \\\n",
            "1          1.0      Spain  Ripe aromas of fig, blackberry and cassis are ...   \n",
            "4          4.0     France  This is the top wine from La Bégude, named aft...   \n",
            "5          5.0      Spain  Deep, dense and pure from the opening bell, th...   \n",
            "6          6.0      Spain  Slightly gritty black-fruit aromas include a s...   \n",
            "7          7.0      Spain  Lush cedary black-fruit aromas are luxe and of...   \n",
            "...        ...        ...                                                ...   \n",
            "24995  24995.0   Portugal  A big textured, smooth wine, sweet fruits with...   \n",
            "24996  24996.0      Spain  Starts out rustic and leathery, with hints of ...   \n",
            "24997  24997.0      Spain  A delicious wine and very much the model for v...   \n",
            "25000  25000.0  Australia  This coppery-pink rosé shows the same classy t...   \n",
            "25001      NaN        NaN                                                NaN   \n",
            "\n",
            "                                designation  points   price        province  \\\n",
            "1      Carodorum Selección Especial Reserva    96.0  1100.0  Northern Spain   \n",
            "4                                La Brûlade    95.0   660.0        Provence   \n",
            "5                                 Numanthia    95.0   730.0  Northern Spain   \n",
            "6                                 San Román    95.0   650.0  Northern Spain   \n",
            "7                   Carodorum Único Crianza    95.0  1100.0  Northern Spain   \n",
            "...                                     ...     ...     ...             ...   \n",
            "24995                            Grand'Arte    89.0   130.0          Lisboa   \n",
            "24996                  Selección 12 Crianza    89.0   150.0         Levante   \n",
            "24997                                   NaN     NaN     NaN             NaN   \n",
            "25000                     Premium Rosé Brut    89.0   220.0        Tasmania   \n",
            "25001                                   NaN     NaN     NaN             NaN   \n",
            "\n",
            "       region_1 region_2             variety                   winery  \\\n",
            "1          Toro      NaN       Tinta de Toro  Bodega Carmen Rodríguez   \n",
            "4        Bandol      NaN  Provence red blend     Domaine de la Bégude   \n",
            "5          Toro      NaN       Tinta de Toro                Numanthia   \n",
            "6          Toro      NaN       Tinta de Toro                 Maurodos   \n",
            "7          Toro      NaN       Tinta de Toro  Bodega Carmen Rodríguez   \n",
            "...         ...      ...                 ...                      ...   \n",
            "24995       NaN      NaN              Shiraz               DFJ Vinhos   \n",
            "24996   Jumilla      NaN           Red Blend            Bodegas Luzón   \n",
            "24997       NaN      NaN                 NaN                      NaN   \n",
            "25000  Tasmania      NaN     Sparkling Blend                    Jansz   \n",
            "25001       NaN      NaN                 NaN                      NaN   \n",
            "\n",
            "       fixed_acidity  residual_sugar  alcohol     density quality_label  \n",
            "1               11.2             2.0     14.0      0.9912        medium  \n",
            "4               13.9            13.8     10.4      0.9942        medium  \n",
            "5               12.5             0.7     10.5      0.9933           low  \n",
            "6                4.3             9.0     13.1      0.9909          high  \n",
            "7               15.0             1.7     12.9      0.9917          high  \n",
            "...              ...             ...      ...         ...           ...  \n",
            "24995           13.0             4.3     13.1  10035.0000           low  \n",
            "24996            6.4             5.3      9.5   1004.0000           low  \n",
            "24997            4.5             9.0     13.8      0.9931        medium  \n",
            "25000            9.3             6.4     13.6  10005.0000          high  \n",
            "25001            NaN             NaN      NaN         NaN           NaN  \n",
            "\n",
            "[18662 rows x 16 columns]\n"
          ]
        },
        {
          "output_type": "stream",
          "name": "stderr",
          "text": [
            "<ipython-input-52-281774589>:7: SettingWithCopyWarning: \n",
            "A value is trying to be set on a copy of a slice from a DataFrame\n",
            "\n",
            "See the caveats in the documentation: https://pandas.pydata.org/pandas-docs/stable/user_guide/indexing.html#returning-a-view-versus-a-copy\n",
            "  df.dropna(how='any', inplace=True)\n"
          ]
        }
      ]
    },
    {
      "cell_type": "code",
      "source": [
        "print(\"Linhas com pelo menos um valor nulo:\")\n",
        "print(df[df.isnull().any(axis=1)])"
      ],
      "metadata": {
        "colab": {
          "base_uri": "https://localhost:8080/"
        },
        "id": "XWk08yjn-tW0",
        "outputId": "25390598-09aa-4aa6-9b28-0c71036e70fa"
      },
      "execution_count": 66,
      "outputs": [
        {
          "output_type": "stream",
          "name": "stdout",
          "text": [
            "Linhas com pelo menos um valor nulo:\n",
            "            id    country                                        description  \\\n",
            "1          1.0      Spain  Ripe aromas of fig, blackberry and cassis are ...   \n",
            "4          4.0     France  This is the top wine from La Bégude, named aft...   \n",
            "5          5.0      Spain  Deep, dense and pure from the opening bell, th...   \n",
            "6          6.0      Spain  Slightly gritty black-fruit aromas include a s...   \n",
            "7          7.0      Spain  Lush cedary black-fruit aromas are luxe and of...   \n",
            "...        ...        ...                                                ...   \n",
            "24995  24995.0   Portugal  A big textured, smooth wine, sweet fruits with...   \n",
            "24996  24996.0      Spain  Starts out rustic and leathery, with hints of ...   \n",
            "24997  24997.0      Spain  A delicious wine and very much the model for v...   \n",
            "25000  25000.0  Australia  This coppery-pink rosé shows the same classy t...   \n",
            "25001      NaN        NaN                                                NaN   \n",
            "\n",
            "                                designation  points   price        province  \\\n",
            "1      Carodorum Selección Especial Reserva    96.0  1100.0  Northern Spain   \n",
            "4                                La Brûlade    95.0   660.0        Provence   \n",
            "5                                 Numanthia    95.0   730.0  Northern Spain   \n",
            "6                                 San Román    95.0   650.0  Northern Spain   \n",
            "7                   Carodorum Único Crianza    95.0  1100.0  Northern Spain   \n",
            "...                                     ...     ...     ...             ...   \n",
            "24995                            Grand'Arte    89.0   130.0          Lisboa   \n",
            "24996                  Selección 12 Crianza    89.0   150.0         Levante   \n",
            "24997                                   NaN     NaN     NaN             NaN   \n",
            "25000                     Premium Rosé Brut    89.0   220.0        Tasmania   \n",
            "25001                                   NaN     NaN     NaN             NaN   \n",
            "\n",
            "       region_1 region_2             variety                   winery  \\\n",
            "1          Toro      NaN       Tinta de Toro  Bodega Carmen Rodríguez   \n",
            "4        Bandol      NaN  Provence red blend     Domaine de la Bégude   \n",
            "5          Toro      NaN       Tinta de Toro                Numanthia   \n",
            "6          Toro      NaN       Tinta de Toro                 Maurodos   \n",
            "7          Toro      NaN       Tinta de Toro  Bodega Carmen Rodríguez   \n",
            "...         ...      ...                 ...                      ...   \n",
            "24995       NaN      NaN              Shiraz               DFJ Vinhos   \n",
            "24996   Jumilla      NaN           Red Blend            Bodegas Luzón   \n",
            "24997       NaN      NaN                 NaN                      NaN   \n",
            "25000  Tasmania      NaN     Sparkling Blend                    Jansz   \n",
            "25001       NaN      NaN                 NaN                      NaN   \n",
            "\n",
            "       fixed_acidity  residual_sugar  alcohol     density quality_label  \n",
            "1               11.2             2.0     14.0      0.9912        medium  \n",
            "4               13.9            13.8     10.4      0.9942        medium  \n",
            "5               12.5             0.7     10.5      0.9933           low  \n",
            "6                4.3             9.0     13.1      0.9909          high  \n",
            "7               15.0             1.7     12.9      0.9917          high  \n",
            "...              ...             ...      ...         ...           ...  \n",
            "24995           13.0             4.3     13.1  10035.0000           low  \n",
            "24996            6.4             5.3      9.5   1004.0000           low  \n",
            "24997            4.5             9.0     13.8      0.9931        medium  \n",
            "25000            9.3             6.4     13.6  10005.0000          high  \n",
            "25001            NaN             NaN      NaN         NaN           NaN  \n",
            "\n",
            "[18662 rows x 16 columns]\n"
          ]
        }
      ]
    },
    {
      "cell_type": "markdown",
      "source": [
        "<a id=\"1\"></a>\n",
        "# <p style=\"background-color:#3498DB; font-family: 'Segoe UI', Tahoma, Geneva, Verdana, sans-serif; color:#FFF; font-size:160%; text-align:center; border-radius:10px; padding:12px;\">4. Transformação e Engenharia de Atributos:</p>"
      ],
      "metadata": {
        "id": "shmEutIdnf83"
      }
    },
    {
      "cell_type": "markdown",
      "source": [],
      "metadata": {
        "id": "U6xx_XYeFkCz"
      }
    },
    {
      "cell_type": "markdown",
      "source": [
        "#Step 01: Conversão de Valores"
      ],
      "metadata": {
        "id": "Ej3qHi85FfCX"
      }
    },
    {
      "cell_type": "code",
      "source": [
        "# Conversão de colunas numéricas que estão como objeto\n",
        "numeric_object_cols = ['fixed_acidity', 'residual_sugar', 'alcohol', 'density']\n",
        "\n",
        "# Substitui vírgula por ponto e converte para float\n",
        "for col in numeric_object_cols:\n",
        "    df[col] = df[col].astype(str).str.replace(',', '.').str.strip()\n",
        "    df[col] = pd.to_numeric(df[col], errors='coerce')\n",
        "\n",
        "\n",
        "print(df.info())"
      ],
      "metadata": {
        "colab": {
          "base_uri": "https://localhost:8080/"
        },
        "id": "F5sQtz-kFrMF",
        "outputId": "0fc5055f-bab8-4a57-e2d4-ead16bbb146d"
      },
      "execution_count": 84,
      "outputs": [
        {
          "output_type": "stream",
          "name": "stdout",
          "text": [
            "<class 'pandas.core.frame.DataFrame'>\n",
            "Index: 23964 entries, 25 to 25000\n",
            "Data columns (total 21 columns):\n",
            " #   Column                 Non-Null Count  Dtype  \n",
            "---  ------                 --------------  -----  \n",
            " 0   id                     23964 non-null  float64\n",
            " 1   country                23964 non-null  object \n",
            " 2   description            23964 non-null  object \n",
            " 3   designation            23964 non-null  object \n",
            " 4   points                 23964 non-null  float64\n",
            " 5   price                  23964 non-null  int64  \n",
            " 6   province               23964 non-null  object \n",
            " 7   region_1               23964 non-null  object \n",
            " 8   region_2               23964 non-null  object \n",
            " 9   variety                23964 non-null  object \n",
            " 10  winery                 23964 non-null  object \n",
            " 11  fixed_acidity          23964 non-null  float64\n",
            " 12  residual_sugar         23964 non-null  float64\n",
            " 13  alcohol                23964 non-null  float64\n",
            " 14  density                23964 non-null  float64\n",
            " 15  quality_label          23964 non-null  object \n",
            " 16  price_range            23964 non-null  object \n",
            " 17  qpr                    23964 non-null  float64\n",
            " 18  full_region            23964 non-null  object \n",
            " 19  desc_length            23964 non-null  int64  \n",
            " 20  alcohol_density_ratio  23964 non-null  float64\n",
            "dtypes: float64(8), int64(2), object(11)\n",
            "memory usage: 4.0+ MB\n",
            "None\n"
          ]
        }
      ]
    },
    {
      "cell_type": "markdown",
      "source": [
        "#Step 01: Tratamento de Valores Nulos"
      ],
      "metadata": {
        "id": "GA59ee735YE7"
      }
    },
    {
      "cell_type": "code",
      "source": [
        "# Verificar a presença de valores nulos no dataset original\n",
        "print(\"Valores nulos no dataset:\")\n",
        "df.isnull().sum()"
      ],
      "metadata": {
        "colab": {
          "base_uri": "https://localhost:8080/",
          "height": 760
        },
        "id": "B8qxo5UF9PRq",
        "outputId": "c913645e-80af-4926-9f63-da641de76284"
      },
      "execution_count": 83,
      "outputs": [
        {
          "output_type": "stream",
          "name": "stdout",
          "text": [
            "Valores nulos no dataset:\n"
          ]
        },
        {
          "output_type": "execute_result",
          "data": {
            "text/plain": [
              "id                       0\n",
              "country                  0\n",
              "description              0\n",
              "designation              0\n",
              "points                   0\n",
              "price                    0\n",
              "province                 0\n",
              "region_1                 0\n",
              "region_2                 0\n",
              "variety                  0\n",
              "winery                   0\n",
              "fixed_acidity            0\n",
              "residual_sugar           0\n",
              "alcohol                  0\n",
              "density                  0\n",
              "quality_label            0\n",
              "price_range              0\n",
              "qpr                      0\n",
              "full_region              0\n",
              "desc_length              0\n",
              "alcohol_density_ratio    0\n",
              "dtype: int64"
            ],
            "text/html": [
              "<div>\n",
              "<style scoped>\n",
              "    .dataframe tbody tr th:only-of-type {\n",
              "        vertical-align: middle;\n",
              "    }\n",
              "\n",
              "    .dataframe tbody tr th {\n",
              "        vertical-align: top;\n",
              "    }\n",
              "\n",
              "    .dataframe thead th {\n",
              "        text-align: right;\n",
              "    }\n",
              "</style>\n",
              "<table border=\"1\" class=\"dataframe\">\n",
              "  <thead>\n",
              "    <tr style=\"text-align: right;\">\n",
              "      <th></th>\n",
              "      <th>0</th>\n",
              "    </tr>\n",
              "  </thead>\n",
              "  <tbody>\n",
              "    <tr>\n",
              "      <th>id</th>\n",
              "      <td>0</td>\n",
              "    </tr>\n",
              "    <tr>\n",
              "      <th>country</th>\n",
              "      <td>0</td>\n",
              "    </tr>\n",
              "    <tr>\n",
              "      <th>description</th>\n",
              "      <td>0</td>\n",
              "    </tr>\n",
              "    <tr>\n",
              "      <th>designation</th>\n",
              "      <td>0</td>\n",
              "    </tr>\n",
              "    <tr>\n",
              "      <th>points</th>\n",
              "      <td>0</td>\n",
              "    </tr>\n",
              "    <tr>\n",
              "      <th>price</th>\n",
              "      <td>0</td>\n",
              "    </tr>\n",
              "    <tr>\n",
              "      <th>province</th>\n",
              "      <td>0</td>\n",
              "    </tr>\n",
              "    <tr>\n",
              "      <th>region_1</th>\n",
              "      <td>0</td>\n",
              "    </tr>\n",
              "    <tr>\n",
              "      <th>region_2</th>\n",
              "      <td>0</td>\n",
              "    </tr>\n",
              "    <tr>\n",
              "      <th>variety</th>\n",
              "      <td>0</td>\n",
              "    </tr>\n",
              "    <tr>\n",
              "      <th>winery</th>\n",
              "      <td>0</td>\n",
              "    </tr>\n",
              "    <tr>\n",
              "      <th>fixed_acidity</th>\n",
              "      <td>0</td>\n",
              "    </tr>\n",
              "    <tr>\n",
              "      <th>residual_sugar</th>\n",
              "      <td>0</td>\n",
              "    </tr>\n",
              "    <tr>\n",
              "      <th>alcohol</th>\n",
              "      <td>0</td>\n",
              "    </tr>\n",
              "    <tr>\n",
              "      <th>density</th>\n",
              "      <td>0</td>\n",
              "    </tr>\n",
              "    <tr>\n",
              "      <th>quality_label</th>\n",
              "      <td>0</td>\n",
              "    </tr>\n",
              "    <tr>\n",
              "      <th>price_range</th>\n",
              "      <td>0</td>\n",
              "    </tr>\n",
              "    <tr>\n",
              "      <th>qpr</th>\n",
              "      <td>0</td>\n",
              "    </tr>\n",
              "    <tr>\n",
              "      <th>full_region</th>\n",
              "      <td>0</td>\n",
              "    </tr>\n",
              "    <tr>\n",
              "      <th>desc_length</th>\n",
              "      <td>0</td>\n",
              "    </tr>\n",
              "    <tr>\n",
              "      <th>alcohol_density_ratio</th>\n",
              "      <td>0</td>\n",
              "    </tr>\n",
              "  </tbody>\n",
              "</table>\n",
              "</div><br><label><b>dtype:</b> int64</label>"
            ]
          },
          "metadata": {},
          "execution_count": 83
        }
      ]
    },
    {
      "cell_type": "code",
      "source": [
        "#codigo aqui\n",
        "\n",
        "#Categóricas\n",
        "df['designation'].fillna('Sem Designação', inplace=True)\n",
        "df['country'].fillna('Desconhecido', inplace=True)\n",
        "df['province'].fillna('Desconhecido', inplace=True)\n",
        "df['region_1'].fillna('Não Informada', inplace=True)\n",
        "df['region_2'].fillna('Não Informada', inplace=True)  # ou df.drop('region_2', axis=1)\n",
        "df['variety'].fillna('Outra', inplace=True)\n",
        "df['winery'].fillna('Desconhecida', inplace=True)\n",
        "\n",
        "# Numéricas\n",
        "df['points'].fillna(df['points'].median(), inplace=True)\n",
        "df['price'] = 0\n"
      ],
      "metadata": {
        "id": "FWZqTJ2S5xu5"
      },
      "execution_count": 85,
      "outputs": []
    },
    {
      "cell_type": "markdown",
      "source": [
        "#Step 02: Tratamento de Outliers"
      ],
      "metadata": {
        "id": "1eBZljPn4LUh"
      }
    },
    {
      "cell_type": "code",
      "source": [
        "df['density'] = pd.to_numeric(df['density'], errors='coerce')\n",
        "\n",
        "#, 'density'\n",
        "\n",
        "# Tratamento de Outliers\n",
        "numeric_cols = ['points', 'price', 'fixed_acidity', 'residual_sugar', 'alcohol']\n",
        "outliers_df = pd.DataFrame()\n",
        "for col in numeric_cols:\n",
        "    Q1 = df[col].quantile(0.25)\n",
        "    Q3 = df[col].quantile(0.75)\n",
        "    IQR = Q3 - Q1\n",
        "    lower = Q1 - 1.5 * IQR\n",
        "    upper = Q3 + 1.5 * IQR\n",
        "    outliers = df[(df[col] < lower) | (df[col] > upper)]\n",
        "    outliers_df = pd.concat([outliers_df, outliers])\n",
        "    df = df[(df[col] >= lower) & (df[col] <= upper)]\n",
        "\n",
        "# Mostrar exemplos de outliers descartados\n",
        "print(\"Exemplos de linhas removidas por outliers:\")\n",
        "print(outliers_df.drop_duplicates().head())\n",
        "\n",
        "\n"
      ],
      "metadata": {
        "colab": {
          "base_uri": "https://localhost:8080/"
        },
        "id": "ygbxbNWk4P6O",
        "outputId": "dccba503-dbbb-4bf9-d7e9-3130c6f31dec"
      },
      "execution_count": 78,
      "outputs": [
        {
          "output_type": "stream",
          "name": "stdout",
          "text": [
            "Exemplos de linhas removidas por outliers:\n",
            "Empty DataFrame\n",
            "Columns: [id, country, description, designation, points, price, province, region_1, region_2, variety, winery, fixed_acidity, residual_sugar, alcohol, density, quality_label, price_range, qpr, full_region, desc_length, alcohol_density_ratio]\n",
            "Index: []\n",
            "\n",
            "[0 rows x 21 columns]\n"
          ]
        }
      ]
    },
    {
      "cell_type": "code",
      "source": [
        "# Verifica o tamanho do dataset , total de linhas e colunas.\n",
        "df.shape\n",
        "print(f\"O Dataset tem {df.shape[0]} linhas e {df.shape[1]} colunas.\")"
      ],
      "metadata": {
        "colab": {
          "base_uri": "https://localhost:8080/"
        },
        "id": "2gPvidGgC0fR",
        "outputId": "2b1ac634-66d1-464d-f178-5135e44fdfd5"
      },
      "execution_count": 77,
      "outputs": [
        {
          "output_type": "stream",
          "name": "stdout",
          "text": [
            "O Dataset tem 23964 linhas e 21 colunas.\n"
          ]
        }
      ]
    },
    {
      "cell_type": "markdown",
      "source": [
        "#Step 03: Categorização de Variáveis"
      ],
      "metadata": {
        "id": "heF6SiF74cTD"
      }
    },
    {
      "cell_type": "code",
      "source": [
        "#codigo aqui"
      ],
      "metadata": {
        "id": "OrqbamBN4hto"
      },
      "execution_count": null,
      "outputs": []
    },
    {
      "cell_type": "markdown",
      "source": [
        "# Step 04: Novas Caracteristicas"
      ],
      "metadata": {
        "id": "0jhvjL0LFWSl"
      }
    },
    {
      "cell_type": "code",
      "source": [
        "#novas características\n",
        "\n",
        "def faixa_preco(preco):\n",
        "    if preco == 0:\n",
        "        return 'Sem Preço'\n",
        "    elif preco > 0 and preco <= 30:\n",
        "        return 'baixo'\n",
        "    elif preco <= 60:\n",
        "        return 'médio'\n",
        "    else:\n",
        "        return 'alto'\n",
        "\n",
        "df['price_range'] = df['price'].apply(faixa_preco)\n",
        "df['qpr'] = df['points'] / df['price']\n",
        "df['full_region'] = df['province'] + ' - ' + df['region_1']\n",
        "df['desc_length'] = df['description'].str.len()\n",
        "df['alcohol_density_ratio'] = df['alcohol'] / df['density']"
      ],
      "metadata": {
        "id": "6Nt3A496FYQi"
      },
      "execution_count": 72,
      "outputs": []
    },
    {
      "cell_type": "markdown",
      "source": [
        "# Step 05: Normalização/Padronização"
      ],
      "metadata": {
        "id": "5AXDsE1RoIqZ"
      }
    },
    {
      "cell_type": "code",
      "source": [
        "X = df[numeric_cols].copy()\n",
        "y = df['quality_label']\n",
        "\n",
        "X_train, X_test, y_train, y_test = train_test_split(X, y, test_size=0.2, random_state=42)\n",
        "\n",
        "# Inicializar o MinMaxScaler\n",
        "scaler_norm = MinMaxScaler()\n",
        "\n",
        "# Aprende min e max APENAS de X_train\n",
        "scaler_norm.fit(X_train)\n",
        "X_train_normalized = scaler_norm.transform(X_train)\n",
        "# Usa a média e o desvio padrão aprendidos de X_train\n",
        "X_test_normalized = scaler_norm.transform(X_test)"
      ],
      "metadata": {
        "id": "4gZ69SvYoL_R"
      },
      "execution_count": 88,
      "outputs": []
    },
    {
      "cell_type": "code",
      "source": [
        "\n",
        "# Exibir as primeiras linhas dos dados normalizados (como DataFrame para melhor visualização)\n",
        "df_normalized = pd.DataFrame(X_train_normalized, columns=X_train.columns)\n"
      ],
      "metadata": {
        "id": "G6B3JOjs-dpH",
        "colab": {
          "base_uri": "https://localhost:8080/",
          "height": 158
        },
        "outputId": "fe706802-2b20-4702-9a0c-d54c85a8effc"
      },
      "execution_count": 80,
      "outputs": [
        {
          "output_type": "error",
          "ename": "NameError",
          "evalue": "name 'X_train_normalized' is not defined",
          "traceback": [
            "\u001b[0;31m---------------------------------------------------------------------------\u001b[0m",
            "\u001b[0;31mNameError\u001b[0m                                 Traceback (most recent call last)",
            "\u001b[0;32m<ipython-input-80-544043611>\u001b[0m in \u001b[0;36m<cell line: 0>\u001b[0;34m()\u001b[0m\n\u001b[1;32m      1\u001b[0m \u001b[0;31m# Exibir as primeiras linhas dos dados normalizados (como DataFrame para melhor visualização)\u001b[0m\u001b[0;34m\u001b[0m\u001b[0;34m\u001b[0m\u001b[0m\n\u001b[0;32m----> 2\u001b[0;31m \u001b[0mdf_normalized\u001b[0m \u001b[0;34m=\u001b[0m \u001b[0mpd\u001b[0m\u001b[0;34m.\u001b[0m\u001b[0mDataFrame\u001b[0m\u001b[0;34m(\u001b[0m\u001b[0mX_train_normalized\u001b[0m\u001b[0;34m,\u001b[0m \u001b[0mcolumns\u001b[0m\u001b[0;34m=\u001b[0m\u001b[0mX_train\u001b[0m\u001b[0;34m.\u001b[0m\u001b[0mcolumns\u001b[0m\u001b[0;34m)\u001b[0m\u001b[0;34m\u001b[0m\u001b[0;34m\u001b[0m\u001b[0m\n\u001b[0m",
            "\u001b[0;31mNameError\u001b[0m: name 'X_train_normalized' is not defined"
          ]
        }
      ]
    },
    {
      "cell_type": "code",
      "source": [
        "\n",
        "print(\"\\nPrimeiras 5 linhas dos dados normalizados (treino):\")\n",
        "print(df_normalized.head())"
      ],
      "metadata": {
        "id": "piYvpjjq-cXV"
      },
      "execution_count": null,
      "outputs": []
    },
    {
      "cell_type": "code",
      "source": [
        "# Visualização da distribuição após a normalização (exemplo para uma característica)\n",
        "plt.figure(figsize=(8, 6))\n",
        "sns.histplot(df_normalized['sepal length (cm)'], kde=True)\n",
        "plt.title('Distribuição do Comprimento da Sépala (Normalizado)')\n",
        "plt.xlabel('Comprimento da Sépala Normalizado')\n",
        "plt.ylabel('Frequência')\n",
        "plt.show()"
      ],
      "metadata": {
        "id": "fm-WFwx7-a4Q"
      },
      "execution_count": null,
      "outputs": []
    },
    {
      "cell_type": "markdown",
      "source": [
        "#padronização\n"
      ],
      "metadata": {
        "id": "q0oPsNaZ-aPe"
      }
    },
    {
      "cell_type": "code",
      "source": [
        "# Inicializar o StandardScaler\n",
        "scaler_std = StandardScaler()\n",
        "\n",
        "# Aprende média e desvio padrão APENAS de X_train\n",
        "scaler_std.fit(X_train)\n",
        "X_train_standardized = scaler_std.transform(X_train)\n",
        "# Usa a média e o desvio padrão aprendidos de X_train\n",
        "X_test_standardized = scaler_std.transform(X_test)\n",
        "\n",
        "\n",
        "# Exibir as primeiras linhas dos dados padronizados (como DataFrame para melhor visualização)\n",
        "df_standardized = pd.DataFrame(X_train_standardized, columns=X_train.columns)\n",
        "\n",
        "print(\"\\nPrimeiras 5 linhas dos dados padronizados (treino):\")\n",
        "print(df_standardized.head())\n",
        "\n",
        "\n",
        "# Visualização da distribuição após a padronização (exemplo para uma característica)\n",
        "plt.figure(figsize=(8, 6))\n",
        "sns.histplot(df_standardized['sepal length (cm)'], kde=True)\n",
        "plt.title('Distribuição do Comprimento da Sépala (Padronizado)')\n",
        "plt.xlabel('Comprimento da Sépala Padronizado')\n",
        "plt.ylabel('Frequência')\n",
        "plt.show()\n"
      ],
      "metadata": {
        "id": "xojNrKF5-v-Z"
      },
      "execution_count": null,
      "outputs": []
    },
    {
      "cell_type": "markdown",
      "source": [
        "# Step 06: Redução de Dimensionalidade"
      ],
      "metadata": {
        "id": "GoStH5SBoTf9"
      }
    },
    {
      "cell_type": "code",
      "source": [
        "#codigo aqui\n",
        "\n",
        "from sklearn.decomposition import PCA\n",
        "from sklearn.preprocessing import StandardScaler\n",
        "\n",
        "# Selecionar apenas colunas numéricas válidas\n",
        "X_numeric = df[features].copy()\n",
        "\n",
        "# Normalizar os dados antes do PCA\n",
        "scaler = StandardScaler()\n",
        "X_scaled = scaler.fit_transform(X_numeric)\n",
        "\n",
        "\n",
        "# Aplicar PCA para reduzir para 2 componentes\n",
        "pca = PCA(n_components=2)\n",
        "X_pca = pca.fit_transform(X_scaled)\n",
        "\n",
        "# Substituir as features originais pelas componentes principais\n",
        "X = pd.DataFrame(X_pca, columns=['PC1', 'PC2'])\n",
        "\n",
        "\n",
        "plt.figure(figsize=(8,6))\n",
        "plt.scatter(X['PC1'], X['PC2'], c=pd.Categorical(df['quality_label']).codes, cmap='viridis', alpha=0.5)\n",
        "plt.xlabel('PC1')\n",
        "plt.ylabel('PC2')\n",
        "plt.title('Distribuição dos dados após PCA')\n",
        "plt.colorbar()\n",
        "plt.show()"
      ],
      "metadata": {
        "colab": {
          "base_uri": "https://localhost:8080/",
          "height": 211
        },
        "id": "YdqwXLbgoVVM",
        "outputId": "b9ba4c42-834d-4cf9-aeb9-4c13e0f7a106"
      },
      "execution_count": 81,
      "outputs": [
        {
          "output_type": "error",
          "ename": "NameError",
          "evalue": "name 'features' is not defined",
          "traceback": [
            "\u001b[0;31m---------------------------------------------------------------------------\u001b[0m",
            "\u001b[0;31mNameError\u001b[0m                                 Traceback (most recent call last)",
            "\u001b[0;32m<ipython-input-81-2650730341>\u001b[0m in \u001b[0;36m<cell line: 0>\u001b[0;34m()\u001b[0m\n\u001b[1;32m      5\u001b[0m \u001b[0;34m\u001b[0m\u001b[0m\n\u001b[1;32m      6\u001b[0m \u001b[0;31m# Selecionar apenas colunas numéricas válidas\u001b[0m\u001b[0;34m\u001b[0m\u001b[0;34m\u001b[0m\u001b[0m\n\u001b[0;32m----> 7\u001b[0;31m \u001b[0mX_numeric\u001b[0m \u001b[0;34m=\u001b[0m \u001b[0mdf\u001b[0m\u001b[0;34m[\u001b[0m\u001b[0mfeatures\u001b[0m\u001b[0;34m]\u001b[0m\u001b[0;34m.\u001b[0m\u001b[0mcopy\u001b[0m\u001b[0;34m(\u001b[0m\u001b[0;34m)\u001b[0m\u001b[0;34m\u001b[0m\u001b[0;34m\u001b[0m\u001b[0m\n\u001b[0m\u001b[1;32m      8\u001b[0m \u001b[0;34m\u001b[0m\u001b[0m\n\u001b[1;32m      9\u001b[0m \u001b[0;31m# Normalizar os dados antes do PCA\u001b[0m\u001b[0;34m\u001b[0m\u001b[0;34m\u001b[0m\u001b[0m\n",
            "\u001b[0;31mNameError\u001b[0m: name 'features' is not defined"
          ]
        }
      ]
    },
    {
      "cell_type": "markdown",
      "source": [
        "# Step 07: Divisão do Conjunto de Dados"
      ],
      "metadata": {
        "id": "j1lj9G26oa2d"
      }
    },
    {
      "cell_type": "code",
      "source": [
        "# Seleção de variáveis\n",
        "features = ['alcohol', 'density', 'fixed_acidity', 'price']\n",
        "X = df[features]\n",
        "y = df['quality_label']\n",
        "\n",
        "# Divisão treino/teste\n",
        "X_train, X_test, y_train, y_test = train_test_split(X, y, test_size=0.2, random_state=42)\n",
        "\n",
        "\n",
        "# Modelo\n",
        "model = RandomForestClassifier(random_state=42)\n",
        "model.fit(X_train, y_train)\n",
        "y_pred = model.predict(X_test)\n",
        "\n",
        "# Avaliação\n",
        "print(classification_report(y_test, y_pred))\n"
      ],
      "metadata": {
        "colab": {
          "base_uri": "https://localhost:8080/"
        },
        "id": "H3QhIVbSofFV",
        "outputId": "adc37960-4d7e-4106-b6d4-6abba596556b"
      },
      "execution_count": 89,
      "outputs": [
        {
          "output_type": "stream",
          "name": "stdout",
          "text": [
            "              precision    recall  f1-score   support\n",
            "\n",
            "        high       1.00      1.00      1.00      1677\n",
            "         low       1.00      1.00      1.00      1420\n",
            "      medium       1.00      1.00      1.00      1696\n",
            "\n",
            "    accuracy                           1.00      4793\n",
            "   macro avg       1.00      1.00      1.00      4793\n",
            "weighted avg       1.00      1.00      1.00      4793\n",
            "\n"
          ]
        }
      ]
    },
    {
      "cell_type": "markdown",
      "source": [
        "<a id=\"1\"></a>\n",
        "# <p style=\"background-color:#3498DB; font-family: 'Segoe UI', Tahoma, Geneva, Verdana, sans-serif; color:#FFF; font-size:160%; text-align:center; border-radius:10px; padding:12px;\">5. Transformação e Engenharia de Atributos:</p>\n",
        "\n",
        "O pré-processamento de dados é uma etapa crucial para preparar os dados para modelagem, garantindo que estejam no formato correto e otimizados para o desempenho do algoritmo."
      ],
      "metadata": {
        "id": "VDovmxgDFcbF"
      }
    },
    {
      "cell_type": "code",
      "source": [
        "# Separar features (X) e target (y)\n",
        "X = df.drop('species', axis=1)\n",
        "y = df['species']"
      ],
      "metadata": {
        "id": "82kzmWnHFkb6"
      },
      "execution_count": null,
      "outputs": []
    },
    {
      "cell_type": "code",
      "source": [
        "# Dividir os dados em conjuntos de treino e teste\n",
        "X_train, X_test, y_train, y_test = train_test_split(X, y, test_size=0.3, random_state=42, stratify=y)"
      ],
      "metadata": {
        "id": "zzxbuTbIeuuU"
      },
      "execution_count": null,
      "outputs": []
    },
    {
      "cell_type": "code",
      "source": [
        "print(f\"Dimensões de X_train: {X_train.shape}\")\n",
        "print(f\"Dimensões de X_test: {X_test.shape}\")\n",
        "print(f\"Dimensões de y_train: {y_train.shape}\")\n",
        "print(f\"Dimensões de y_test: {y_test.shape}\")"
      ],
      "metadata": {
        "colab": {
          "base_uri": "https://localhost:8080/"
        },
        "id": "SPvN4eP8ewUB",
        "outputId": "21eab216-a9ea-4c61-89cf-6138bbd932c3"
      },
      "execution_count": null,
      "outputs": [
        {
          "output_type": "stream",
          "name": "stdout",
          "text": [
            "Dimensões de X_train: (105, 4)\n",
            "Dimensões de X_test: (45, 4)\n",
            "Dimensões de y_train: (105,)\n",
            "Dimensões de y_test: (45,)\n"
          ]
        }
      ]
    },
    {
      "cell_type": "markdown",
      "source": [
        "O histograma de *sepal length* após a normalização mostra que os valores foram escalados para o intervalo de 0 a 1, mantendo a forma da distribuição original."
      ],
      "metadata": {
        "id": "Eyb-mWfqHDDU"
      }
    },
    {
      "cell_type": "markdown",
      "source": [
        "O histograma de *sepal length* após a padronização mostra que os valores foram transformados para ter uma média próxima de zero e um desvio padrão de um, centralizando a distribuição."
      ],
      "metadata": {
        "id": "zmeMPbfhGxcA"
      }
    },
    {
      "cell_type": "code",
      "source": [
        "# Verificar a presença de valores nulos no dataset original\n",
        "print(\"Valores nulos no dataset Iris:\")\n",
        "df.isnull().sum()"
      ],
      "metadata": {
        "id": "fNQUvAnwG8fL",
        "colab": {
          "base_uri": "https://localhost:8080/",
          "height": 258
        },
        "outputId": "04167a3e-4be3-4b47-ce03-288ba83c095e"
      },
      "execution_count": null,
      "outputs": [
        {
          "output_type": "stream",
          "name": "stdout",
          "text": [
            "Valores nulos no dataset Iris:\n"
          ]
        },
        {
          "output_type": "execute_result",
          "data": {
            "text/plain": [
              "sepal length (cm)    0\n",
              "sepal width (cm)     0\n",
              "petal length (cm)    0\n",
              "petal width (cm)     0\n",
              "species              0\n",
              "dtype: int64"
            ],
            "text/html": [
              "<div>\n",
              "<style scoped>\n",
              "    .dataframe tbody tr th:only-of-type {\n",
              "        vertical-align: middle;\n",
              "    }\n",
              "\n",
              "    .dataframe tbody tr th {\n",
              "        vertical-align: top;\n",
              "    }\n",
              "\n",
              "    .dataframe thead th {\n",
              "        text-align: right;\n",
              "    }\n",
              "</style>\n",
              "<table border=\"1\" class=\"dataframe\">\n",
              "  <thead>\n",
              "    <tr style=\"text-align: right;\">\n",
              "      <th></th>\n",
              "      <th>0</th>\n",
              "    </tr>\n",
              "  </thead>\n",
              "  <tbody>\n",
              "    <tr>\n",
              "      <th>sepal length (cm)</th>\n",
              "      <td>0</td>\n",
              "    </tr>\n",
              "    <tr>\n",
              "      <th>sepal width (cm)</th>\n",
              "      <td>0</td>\n",
              "    </tr>\n",
              "    <tr>\n",
              "      <th>petal length (cm)</th>\n",
              "      <td>0</td>\n",
              "    </tr>\n",
              "    <tr>\n",
              "      <th>petal width (cm)</th>\n",
              "      <td>0</td>\n",
              "    </tr>\n",
              "    <tr>\n",
              "      <th>species</th>\n",
              "      <td>0</td>\n",
              "    </tr>\n",
              "  </tbody>\n",
              "</table>\n",
              "</div><br><label><b>dtype:</b> int64</label>"
            ]
          },
          "metadata": {},
          "execution_count": 32
        }
      ]
    },
    {
      "cell_type": "markdown",
      "source": [
        "## Outras Transformações e Etapas de Pré-Processamento\n",
        "\n",
        "Outras etapas de pré-processamento incluem a seleção de características, redução de dimensionalidade (como PCA) ou criação de novas características (feature engineering). O que você faria a mais?\n",
        "\n"
      ],
      "metadata": {
        "id": "rBl8S0hDGap4"
      }
    },
    {
      "cell_type": "markdown",
      "source": [
        "#\n",
        "\n",
        "<a id=\"1\"></a>\n",
        "# <p style=\"background-color:#3498DB; font-family: 'Segoe UI', Tahoma, Geneva, Verdana, sans-serif; color:#FFF; font-size:160%; text-align:center; border-radius:10px; padding:12px;\">5. Análise Exploratória de Dados (EDA - Exploratory Data Analysis)</p>\n",
        "\n",
        "Objetivo: entender padrões, distribuições, correlações e possíveis insights.\n",
        "\n",
        "Visualizações com histogramas, boxplots, heatmaps, pairplots, etc.\n",
        "\n",
        "Estatísticas descritivas (média, mediana, desvio padrão).\n",
        "\n",
        "Identificação de relações entre variáveis (ex: correlação de Pearson).\n",
        "\n",
        "Análise de tendências e sazonalidades (se houver data/hora)."
      ],
      "metadata": {
        "id": "14PPmy2nrfcq"
      }
    },
    {
      "cell_type": "code",
      "source": [
        "#--------------------------------------------------------#\n",
        "# Mostra Grafico com a Distribuição das Classes          #\n",
        "#--------------------------------------------------------#\n",
        "plt.figure(figsize=(7, 5))\n",
        "\n",
        "# Captura o objeto Axes\n",
        "ax = sns.countplot(x='quality_label', data=df)\n",
        "\n",
        "plt.title('Distribuição das Qualidades dos Rótulos')\n",
        "plt.xlabel('Qualidade')\n",
        "plt.ylabel('Contagem')\n",
        "\n",
        "# Mostra os valores nas barras\n",
        "for p in ax.patches:\n",
        "    height = p.get_height()\n",
        "    ax.text(p.get_x() + p.get_width() / 2., height + 1, int(height),\n",
        "            ha=\"center\", fontsize=10)\n",
        "\n",
        "#Plota o grafico\n",
        "plt.tight_layout()\n",
        "plt.show()"
      ],
      "metadata": {
        "colab": {
          "base_uri": "https://localhost:8080/",
          "height": 507
        },
        "id": "ZNGSO7oa1PoE",
        "outputId": "4f5c0096-4280-41ed-c436-66ffdce86fed"
      },
      "execution_count": null,
      "outputs": [
        {
          "output_type": "display_data",
          "data": {
            "text/plain": [
              "<Figure size 700x500 with 1 Axes>"
            ],
            "image/png": "[encoded data removed]"
          },
          "metadata": {}
        }
      ]
    },
    {
      "cell_type": "markdown",
      "source": [
        "#matriz de correlação"
      ],
      "metadata": {
        "id": "O6zYz73MDaWv"
      }
    },
    {
      "cell_type": "code",
      "source": [
        "# Matriz de correlação\n",
        "print(\"\\nMatriz de Correlação:\")\n",
        "df.iloc[:, :4].corr()\n",
        "\n",
        "plt.figure(figsize=(8, 6))\n",
        "# mapa de calor das variáveis numéricas\n",
        "sns.heatmap(df.iloc[:, :4].corr(), annot=True, cmap='coolwarm', fmt=\".2f\")\n",
        "plt.title('Matriz de Correlação das Características Numéricas do Iris Dataset')\n",
        "plt.show()\n"
      ],
      "metadata": {
        "id": "7I47Pc6lDc80"
      },
      "execution_count": null,
      "outputs": []
    },
    {
      "cell_type": "code",
      "source": [
        "# Estatísticas descritivas agrupadas por espécie\n",
        "df.groupby('species').describe()\n",
        "\n",
        "# Boxplot do comprimento da pétala por espécie\n",
        "plt.figure(figsize=(10, 6))\n",
        "sns.boxplot(x='species', y='petal width (cm)', data=df)\n",
        "plt.title('Largura da Pétala por Espécie')\n",
        "plt.xlabel('Espécie')\n",
        "plt.ylabel('Largura da Pétala (cm)')\n",
        "plt.show()\n",
        "\n",
        "# Boxplot do comprimento da pétala por espécie\n",
        "plt.figure(figsize=(10, 6))\n",
        "sns.boxplot(x='species', y='petal length (cm)', data=df)\n",
        "plt.title('Comprimento da Pétala por Espécie')\n",
        "plt.xlabel('Espécie')\n",
        "plt.ylabel('Comprimento da Pétala (cm)')\n",
        "plt.show()\n",
        "\n",
        "\n"
      ],
      "metadata": {
        "id": "2Sy-Tb1iDqGI"
      },
      "execution_count": null,
      "outputs": []
    },
    {
      "cell_type": "markdown",
      "source": [
        "Histograma\n",
        "A distribuição de dados descreve como os valores de uma variável se espalham, ou seja, a frequência com que diferentes valores ocorrem. Entender a distribuição é crucial na análise de dados, pois revela padrões, tendências centrais, dispersão e a presença de valores atípicos (outliers). O histograma é uma ferramenta visual fundamental para representar essa distribuição, mostrando a forma dos dados, se são simétricos ou assimétricos, unimodais ou multimodais."
      ],
      "metadata": {
        "id": "DKI1L6EOEV2I"
      }
    },
    {
      "cell_type": "markdown",
      "source": [
        "Média\n",
        "A média é uma medida de tendência central que representa o valor típico ou o ponto de equilíbrio de um conjunto de dados. É calculada somando-se todos os valores e dividindo-se pelo número total de observações. É sensível a valores extremos (outliers).\n",
        "\n",
        "Desvio padrão\n",
        "\n",
        "qual o grafico seria interresante poara mostra isso\n"
      ],
      "metadata": {
        "id": "1ram7iI2ElTp"
      }
    },
    {
      "cell_type": "markdown",
      "source": [
        "<a id=\"1\"></a>\n",
        "# <p style=\"background-color:#3498DB; font-family: 'Segoe UI', Tahoma, Geneva, Verdana, sans-serif; color:#FFF; font-size:160%; text-align:center; border-radius:10px; padding:12px;\">6. Interpretação e Geração de Insights: xxxxx:</p>"
      ],
      "metadata": {
        "id": "6oM9urNKNRN9"
      }
    },
    {
      "cell_type": "markdown",
      "source": [
        "<a id=\"1\"></a>\n",
        "# <p style=\"background-color:#3498DB; font-family: 'Segoe UI', Tahoma, Geneva, Verdana, sans-serif; color:#FFF; font-size:160%; text-align:center; border-radius:10px; padding:12px;\">7. Visualização Final e Comunicação</p>"
      ],
      "metadata": {
        "id": "QJWMlPcqNa-7"
      }
    },
    {
      "cell_type": "markdown",
      "source": [
        "******************************************\n",
        "\n",
        "Quais variáveis se destacam entre os rótulos?\n",
        "\n",
        "Existe algum grupo de qualidade com comportamento muito diferente?\n",
        "\n",
        "Alguma recomendação com base nas descobertas?"
      ],
      "metadata": {
        "id": "LogNez71OVzt"
      }
    },
    {
      "cell_type": "code",
      "source": [],
      "metadata": {
        "id": "hxuos_akOR7G"
      },
      "execution_count": null,
      "outputs": []
    },
    {
      "cell_type": "markdown",
      "source": [
        "<a id=\"1\"></a>\n",
        "# <p style=\"background-color:#3498DB; font-family: 'Segoe UI', Tahoma, Geneva, Verdana, sans-serif; color:#FFF; font-size:160%; text-align:center; border-radius:10px; padding:12px;\">8. Conclusão</p>\n",
        "\n",
        "A análise e pré-processamento do dataset Iris demonstram a importância de entender a estrutura dos dados antes da modelagem. O dataset é limpo e balanceado, com características numéricas bem definidas que permitem uma clara separação entre as espécies, especialmente a Iris setosa. A análise exploratória revelou correlações importantes entre as características e a eficácia de visualizações como boxplots para distinguir as classes. As etapas de normalização e padronização são fundamentais para preparar os dados para diversos algoritmos de aprendizado de máquina, garantindo que o modelo possa aprender eficientemente com as relações presentes nos dados.\n",
        "\n",
        "As três hipóteses levantadas foram validadas:\n",
        "\n",
        "1.   *As diferentes espécies de Íris podem ser distinguidas com base nas medições de suas sépalas e pétalas?* Sim, dado as análises que fizemos no boxplot, observamos um comportamento muito claro e distinto.\n",
        "\n",
        "2.   *Existe uma correlação entre comprimento da pétala e largura da pétala?* Existe forte correlação entre os atributos *petal length* e *petal width*.\n",
        "\n",
        "3.   *A espécie Iris setosa é mais facilmente separável das outras duas espécies?* Sim, devido às suas características distintas de menor comprimento e largura da pétala."
      ],
      "metadata": {
        "id": "OY_GDjf1G-PM"
      }
    }
  ]
}